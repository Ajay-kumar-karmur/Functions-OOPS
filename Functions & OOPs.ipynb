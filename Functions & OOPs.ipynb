{
 "cells": [
  {
   "cell_type": "code",
   "execution_count": 1,
   "id": "9d0c76ae-624b-424a-8662-caf7a3bdb4a8",
   "metadata": {},
   "outputs": [
    {
     "name": "stdout",
     "output_type": "stream",
     "text": [
      "Addition: 15\n",
      "Subtraction: 5\n"
     ]
    }
   ],
   "source": [
    "#Explain the importance of Functions\n",
    "\n",
    "#Functions in Python improve code organization by making it modular, reusable, and easier to read and maintain.\n",
    "#They also simplify testing and debugging by isolating specific tasks.\n",
    "def add(a, b):\n",
    "    return a + b\n",
    "\n",
    "def subtract(a, b):\n",
    "    return a - b\n",
    "\n",
    "x = 10\n",
    "y = 5\n",
    "\n",
    "print(\"Addition:\", add(x, y))      # Output: Addition: 15\n",
    "print(\"Subtraction:\", subtract(x, y))  # Output: Subtraction: 5\n"
   ]
  },
  {
   "cell_type": "code",
   "execution_count": 2,
   "id": "4635cd7b-f465-45f0-8d8c-69a04441af38",
   "metadata": {},
   "outputs": [
    {
     "name": "stdout",
     "output_type": "stream",
     "text": [
      "Hello, Ajay! Welcome to the class.\n"
     ]
    }
   ],
   "source": [
    "# Write a basic function to greet students\n",
    "def greet_student(name):\n",
    "    print(f\"Hello, {name}! Welcome to the class.\")\n",
    "\n",
    "# Example usage:\n",
    "greet_student(\"Ajay\")\n"
   ]
  },
  {
   "cell_type": "code",
   "execution_count": 3,
   "id": "c32abd58-8bc8-445d-a1e5-66dc4fb94d57",
   "metadata": {},
   "outputs": [],
   "source": [
    "# What is the difference between print and return statements\n",
    "\n",
    "\n",
    "#The print and return statements in Python serve different purposes and are used in different contexts. \n",
    "#The print statement is used to output data to the console. \n",
    "#It's primarily used for displaying information to the user or for debugging purposes, \n",
    "#allowing you to see the values of variables or the results of expressions during program execution. On the other hand, \n",
    "#the return statement is used within a function to send a value back to the caller. When a function executes a return statement, \n",
    "#it terminates the function and optionally passes back a value to the part of the program that called the function. \n",
    "#This returned value can then be used for further processing or calculations. Essentially, \n",
    "#print is used for immediate output, while return is used for passing data between functions or to the main program."
   ]
  },
  {
   "cell_type": "code",
   "execution_count": 5,
   "id": "d2ee2590-c7b1-4afa-8a34-e3c80aae7565",
   "metadata": {},
   "outputs": [
    {
     "name": "stdout",
     "output_type": "stream",
     "text": [
      "Positional arguments: (1, 2, 3)\n",
      "Keyword arguments: {'a': 4, 'b': 5}\n"
     ]
    }
   ],
   "source": [
    "# What are *args and **kwargs\n",
    "\n",
    "#args allows a function to accept any number of positional arguments, which are passed as a tuple.\n",
    "#kwargs allows a function to accept any number of keyword arguments, which are passed as a dictionary.\n",
    "def example_function(*args, **kwargs):\n",
    "    print(\"Positional arguments:\", args)\n",
    "    print(\"Keyword arguments:\", kwargs)\n",
    "\n",
    "example_function(1, 2, 3, a=4, b=5)\n"
   ]
  },
  {
   "cell_type": "code",
   "execution_count": 7,
   "id": "1c343a36-31f9-4882-95a1-80e1bef11d2d",
   "metadata": {},
   "outputs": [
    {
     "name": "stdout",
     "output_type": "stream",
     "text": [
      "1\n",
      "2\n",
      "3\n"
     ]
    }
   ],
   "source": [
    " #Explain the iterator function\n",
    "\n",
    "# Function that call it self\n",
    "class MyIterator:\n",
    "    def __init__(self, data):\n",
    "        self.data = data\n",
    "        self.index = 0\n",
    "\n",
    "    def __iter__(self):\n",
    "        return self\n",
    "\n",
    "    def __next__(self):\n",
    "        if self.index < len(self.data):\n",
    "            result = self.data[self.index]\n",
    "            self.index += 1\n",
    "            return result\n",
    "        else:\n",
    "            raise StopIteration\n",
    "\n",
    "# Using the iterator\n",
    "my_data = [1, 2, 3]\n",
    "iterator = MyIterator(my_data)\n",
    "\n",
    "for item in iterator:\n",
    "    print(item)\n"
   ]
  },
  {
   "cell_type": "code",
   "execution_count": 8,
   "id": "13994a07-a81e-47e1-9573-30e2ff65efef",
   "metadata": {},
   "outputs": [
    {
     "name": "stdout",
     "output_type": "stream",
     "text": [
      "1\n",
      "4\n",
      "9\n",
      "16\n",
      "25\n"
     ]
    }
   ],
   "source": [
    "# Write a code that generates the squares of numbers from 1 to n using a generator\n",
    "\n",
    "def square_generator(n):\n",
    "    for i in range(1, n+1):\n",
    "        yield i*i\n",
    "\n",
    "# Example usage:\n",
    "n = 5\n",
    "squares = square_generator(n)\n",
    "\n",
    "for square in squares:\n",
    "    print(square)\n"
   ]
  },
  {
   "cell_type": "code",
   "execution_count": 9,
   "id": "821f916d-c5f0-4143-8174-a98fd9eef1a2",
   "metadata": {},
   "outputs": [
    {
     "name": "stdin",
     "output_type": "stream",
     "text": [
      "Enter the value of n:  5\n"
     ]
    },
    {
     "name": "stdout",
     "output_type": "stream",
     "text": [
      "Palindromic numbers up to 5 :\n",
      "1\n",
      "2\n",
      "3\n",
      "4\n",
      "5\n"
     ]
    }
   ],
   "source": [
    "# Write a code that generates palindromic numbers up to n using a generator\n",
    "def is_palindrome(num):\n",
    "    return str(num) == str(num)[::-1]\n",
    "\n",
    "def palindrome_generator(n):\n",
    "    for num in range(1, n+1):\n",
    "        if is_palindrome(num):\n",
    "            yield num\n",
    "\n",
    "# Input value of n from the user\n",
    "n = int(input(\"Enter the value of n: \"))\n",
    "\n",
    "# Generate palindromic numbers up to n\n",
    "palindromes = palindrome_generator(n)\n",
    "\n",
    "# Display palindromic numbers\n",
    "print(\"Palindromic numbers up to\", n, \":\")\n",
    "for palindrome in palindromes:\n",
    "    print(palindrome)\n"
   ]
  },
  {
   "cell_type": "code",
   "execution_count": 10,
   "id": "b437773f-8ce3-4da7-9a60-7b3f8f4c92a1",
   "metadata": {},
   "outputs": [
    {
     "name": "stdin",
     "output_type": "stream",
     "text": [
      "Enter the value of n:  5\n"
     ]
    },
    {
     "name": "stdout",
     "output_type": "stream",
     "text": [
      "Even numbers from 2 to 5 :\n",
      "2\n",
      "4\n"
     ]
    }
   ],
   "source": [
    "# Write a code that generates even numbers from 2 to n using a generator\n",
    "\n",
    "def even_generator(n):\n",
    "    for num in range(2, n+1, 2):\n",
    "        yield num\n",
    "\n",
    "# Input value of n from the user\n",
    "n = int(input(\"Enter the value of n: \"))\n",
    "\n",
    "# Generate even numbers up to n\n",
    "even_numbers = even_generator(n)\n",
    "\n",
    "# Display even numbers\n",
    "print(\"Even numbers from 2 to\", n, \":\")\n",
    "for even_number in even_numbers:\n",
    "    print(even_number)\n"
   ]
  },
  {
   "cell_type": "code",
   "execution_count": 11,
   "id": "ca55f2f4-16cb-4b11-b17b-ec06f6662985",
   "metadata": {},
   "outputs": [
    {
     "name": "stdin",
     "output_type": "stream",
     "text": [
      "Enter the value of n:  4\n"
     ]
    },
    {
     "name": "stdout",
     "output_type": "stream",
     "text": [
      "Powers of two up to 4 :\n",
      "1\n",
      "2\n",
      "4\n"
     ]
    }
   ],
   "source": [
    "# Write a code that generates powers of two up to n using a generator\n",
    "\n",
    "def powers_of_two_generator(n):\n",
    "    power = 1\n",
    "    while power <= n:\n",
    "        yield power\n",
    "        power *= 2\n",
    "\n",
    "# Input value of n from the user\n",
    "n = int(input(\"Enter the value of n: \"))\n",
    "\n",
    "# Generate powers of two up to n\n",
    "powers_of_two = powers_of_two_generator(n)\n",
    "\n",
    "# Display powers of two\n",
    "print(\"Powers of two up to\", n, \":\")\n",
    "for power in powers_of_two:\n",
    "    print(power)\n"
   ]
  },
  {
   "cell_type": "code",
   "execution_count": 13,
   "id": "ca7633f0-c210-49c6-ae38-35b009b4cb67",
   "metadata": {},
   "outputs": [
    {
     "name": "stdin",
     "output_type": "stream",
     "text": [
      "Enter the value of n:  4\n"
     ]
    },
    {
     "name": "stdout",
     "output_type": "stream",
     "text": [
      "Prime numbers up to 4 :\n",
      "2\n",
      "3\n"
     ]
    }
   ],
   "source": [
    "#Write a code that generates prime numbers up to n using a generator\n",
    "def is_prime(num):\n",
    "    if num <= 1:\n",
    "        return False\n",
    "    for i in range(2, int(num**0.5) + 1):\n",
    "        if num % i == 0:\n",
    "            return False\n",
    "    return True\n",
    "\n",
    "def prime_generator(n):\n",
    "    for num in range(2, n+1):\n",
    "        if is_prime(num):\n",
    "            yield num\n",
    "\n",
    "n = int(input(\"Enter the value of n: \"))\n",
    "primes = prime_generator(n)\n",
    "print(\"Prime numbers up to\", n, \":\")\n",
    "for prime in primes:\n",
    "    print(prime)\n"
   ]
  },
  {
   "cell_type": "code",
   "execution_count": 14,
   "id": "2ee939a8-619f-4ec6-90fd-8c9e7f96d989",
   "metadata": {},
   "outputs": [
    {
     "name": "stdin",
     "output_type": "stream",
     "text": [
      "Enter the first number:  4\n",
      "Enter the second number:  5\n"
     ]
    },
    {
     "name": "stdout",
     "output_type": "stream",
     "text": [
      "The sum of 4.0 and 5.0 is: 9.0\n"
     ]
    }
   ],
   "source": [
    "# Write a code that uses a lambda function to calculate the sum of two numbers\n",
    "# Define the lambda function\n",
    "sum_function = lambda x, y: x + y\n",
    "\n",
    "# Input two numbers from the user\n",
    "num1 = float(input(\"Enter the first number: \"))\n",
    "num2 = float(input(\"Enter the second number: \"))\n",
    "\n",
    "# Calculate the sum using the lambda function\n",
    "result = sum_function(num1, num2)\n",
    "\n",
    "# Display the result\n",
    "print(\"The sum of\", num1, \"and\", num2, \"is:\", result)\n"
   ]
  },
  {
   "cell_type": "code",
   "execution_count": 15,
   "id": "a5a16274-8081-41dc-b23e-51611ce3494b",
   "metadata": {},
   "outputs": [
    {
     "name": "stdin",
     "output_type": "stream",
     "text": [
      "Enter a number:  5\n"
     ]
    },
    {
     "name": "stdout",
     "output_type": "stream",
     "text": [
      "The square of 5.0 is: 25.0\n"
     ]
    }
   ],
   "source": [
    "#Write a code that uses a lambda function to calculate the square of a given number\n",
    "# Define the lambda function\n",
    "square_function = lambda x: x ** 2\n",
    "\n",
    "# Input a number from the user\n",
    "num = float(input(\"Enter a number: \"))\n",
    "\n",
    "# Calculate the square using the lambda function\n",
    "result = square_function(num)\n",
    "\n",
    "# Display the result\n",
    "print(\"The square of\", num, \"is:\", result)\n"
   ]
  },
  {
   "cell_type": "code",
   "execution_count": 16,
   "id": "6ee8f856-63bd-47a4-8d0d-5ae80823c80a",
   "metadata": {},
   "outputs": [
    {
     "name": "stdin",
     "output_type": "stream",
     "text": [
      "Enter a number:  5\n"
     ]
    },
    {
     "name": "stdout",
     "output_type": "stream",
     "text": [
      "The number 5 is: Odd\n"
     ]
    }
   ],
   "source": [
    "# Write a code that uses a lambda function to check whether a given number is even or odd\n",
    "# Define the lambda function\n",
    "check_even_odd = lambda x: \"Even\" if x % 2 == 0 else \"Odd\"\n",
    "\n",
    "# Input a number from the user\n",
    "num = int(input(\"Enter a number: \"))\n",
    "\n",
    "# Check whether the number is even or odd using the lambda function\n",
    "result = check_even_odd(num)\n",
    "\n",
    "# Display the result\n",
    "print(\"The number\", num, \"is:\", result)\n"
   ]
  },
  {
   "cell_type": "code",
   "execution_count": 17,
   "id": "2d0b2433-05ba-4ac1-9dab-954065749b23",
   "metadata": {},
   "outputs": [
    {
     "name": "stdin",
     "output_type": "stream",
     "text": [
      "Enter the first string:  ajay\n",
      "Enter the second string:  ajay\n"
     ]
    },
    {
     "name": "stdout",
     "output_type": "stream",
     "text": [
      "The concatenated string is: ajayajay\n"
     ]
    }
   ],
   "source": [
    "# Write a code that uses a lambda function to concatenate two strings\n",
    "# Define the lambda function\n",
    "concatenate_strings = lambda x, y: x + y\n",
    "\n",
    "# Input two strings from the user\n",
    "string1 = input(\"Enter the first string: \")\n",
    "string2 = input(\"Enter the second string: \")\n",
    "\n",
    "# Concatenate the strings using the lambda function\n",
    "result = concatenate_strings(string1, string2)\n",
    "\n",
    "# Display the result\n",
    "print(\"The concatenated string is:\", result)\n",
    "\n"
   ]
  },
  {
   "cell_type": "code",
   "execution_count": 18,
   "id": "ab2bc928-481e-4fca-a704-a37277737af2",
   "metadata": {},
   "outputs": [
    {
     "name": "stdin",
     "output_type": "stream",
     "text": [
      "Enter the first number:  3\n",
      "Enter the second number:  5\n",
      "Enter the third number:  7\n"
     ]
    },
    {
     "name": "stdout",
     "output_type": "stream",
     "text": [
      "The maximum of 3.0 , 5.0 , and 7.0 is: 7.0\n"
     ]
    }
   ],
   "source": [
    "#Write a code that uses a lambda function to find the maximum of three given numbers\n",
    "# Define the lambda function\n",
    "find_maximum = lambda x, y, z: max(x, y, z)\n",
    "\n",
    "# Input three numbers from the user\n",
    "num1 = float(input(\"Enter the first number: \"))\n",
    "num2 = float(input(\"Enter the second number: \"))\n",
    "num3 = float(input(\"Enter the third number: \"))\n",
    "\n",
    "# Find the maximum of the three numbers using the lambda function\n",
    "result = find_maximum(num1, num2, num3)\n",
    "\n",
    "# Display the result\n",
    "print(\"The maximum of\", num1, \",\", num2, \", and\", num3, \"is:\", result)\n"
   ]
  },
  {
   "cell_type": "code",
   "execution_count": 19,
   "id": "739cbbe6-4ae3-47bd-90cf-a73e7e9b65c7",
   "metadata": {},
   "outputs": [
    {
     "name": "stdout",
     "output_type": "stream",
     "text": [
      "Squares of even numbers from the list: [4, 16, 36, 64, 100]\n"
     ]
    }
   ],
   "source": [
    "# Write a code that generates the squares of even numbers from a given list\n",
    "# Define the list of numbers\n",
    "numbers = [1, 2, 3, 4, 5, 6, 7, 8, 9, 10]\n",
    "\n",
    "# Use a lambda function with filter and map to generate the squares of even numbers\n",
    "squares_of_even_numbers = list(map(lambda x: x ** 2, filter(lambda x: x % 2 == 0, numbers)))\n",
    "\n",
    "# Display the squares of even numbers\n",
    "print(\"Squares of even numbers from the list:\", squares_of_even_numbers)\n"
   ]
  },
  {
   "cell_type": "code",
   "execution_count": 20,
   "id": "d70edf4f-338e-4203-931a-6f4761e6ac14",
   "metadata": {},
   "outputs": [
    {
     "name": "stdout",
     "output_type": "stream",
     "text": [
      "Product of positive numbers from the list: 34560\n"
     ]
    }
   ],
   "source": [
    "# Write a code that calculates the product of positive numbers from a given list\n",
    "# Define the list of numbers\n",
    "numbers = [1, 2, -3, 4, -5, 6, -7, 8, 9, 10]\n",
    "\n",
    "# Calculate the product of positive numbers using a list comprehension\n",
    "product_of_positive_numbers = 1\n",
    "for num in numbers:\n",
    "    if num > 0:\n",
    "        product_of_positive_numbers *= num\n",
    "\n",
    "# Display the product of positive numbers\n",
    "print(\"Product of positive numbers from the list:\", product_of_positive_numbers)\n"
   ]
  },
  {
   "cell_type": "code",
   "execution_count": 21,
   "id": "90061053-7632-4224-bcfc-5df35060bbec",
   "metadata": {},
   "outputs": [
    {
     "name": "stdout",
     "output_type": "stream",
     "text": [
      "Doubled values of odd numbers from the list: [2, 6, 10, 14, 18]\n"
     ]
    }
   ],
   "source": [
    "# Write a code that doubles the values of odd numbers from a given list\n",
    "# Define the list of numbers\n",
    "numbers = [1, 2, 3, 4, 5, 6, 7, 8, 9, 10]\n",
    "\n",
    "# Use a list comprehension to double the values of odd numbers\n",
    "doubled_odd_numbers = [num * 2 for num in numbers if num % 2 != 0]\n",
    "\n",
    "# Display the doubled values of odd numbers\n",
    "print(\"Doubled values of odd numbers from the list:\", doubled_odd_numbers)\n"
   ]
  },
  {
   "cell_type": "code",
   "execution_count": 22,
   "id": "36698574-3192-4e7b-9b53-b4f485d608b8",
   "metadata": {},
   "outputs": [
    {
     "name": "stdout",
     "output_type": "stream",
     "text": [
      "Sum of cubes of numbers from the list: 225\n"
     ]
    }
   ],
   "source": [
    "#Write a code that calculates the sum of cubes of numbers from a given list\n",
    "# Define the list of numbers\n",
    "numbers = [1, 2, 3, 4, 5]\n",
    "\n",
    "# Calculate the sum of cubes of numbers using a generator expression\n",
    "sum_of_cubes = sum(num ** 3 for num in numbers)\n",
    "\n",
    "# Display the sum of cubes of numbers\n",
    "print(\"Sum of cubes of numbers from the list:\", sum_of_cubes)\n"
   ]
  },
  {
   "cell_type": "code",
   "execution_count": 23,
   "id": "0c8a4a71-7a92-416f-9fd8-dc2b3578d860",
   "metadata": {},
   "outputs": [
    {
     "name": "stdout",
     "output_type": "stream",
     "text": [
      "Prime numbers from the list: [2, 3, 5, 7]\n"
     ]
    }
   ],
   "source": [
    "# Write a code that filters out prime numbers from a given list\n",
    "def is_prime(num):\n",
    "    if num <= 1:\n",
    "        return False\n",
    "    for i in range(2, int(num**0.5) + 1):\n",
    "        if num % i == 0:\n",
    "            return False\n",
    "    return True\n",
    "\n",
    "# Define the list of numbers\n",
    "numbers = [1, 2, 3, 4, 5, 6, 7, 8, 9, 10]\n",
    "\n",
    "# Use a list comprehension to filter out prime numbers\n",
    "prime_numbers = [num for num in numbers if is_prime(num)]\n",
    "\n",
    "# Display the prime numbers\n",
    "print(\"Prime numbers from the list:\", prime_numbers)\n"
   ]
  },
  {
   "cell_type": "code",
   "execution_count": 24,
   "id": "79bcf396-3863-4336-95e6-2b2b2df62141",
   "metadata": {},
   "outputs": [
    {
     "name": "stdin",
     "output_type": "stream",
     "text": [
      "Enter the first number:  3\n",
      "Enter the second number:  5\n"
     ]
    },
    {
     "name": "stdout",
     "output_type": "stream",
     "text": [
      "The sum of 3.0 and 5.0 is: 8.0\n"
     ]
    }
   ],
   "source": [
    "# Write a code that uses a lambda function to calculate the sum of two numbers\n",
    "# Define the lambda function\n",
    "sum_function = lambda x, y: x + y\n",
    "\n",
    "# Input two numbers from the user\n",
    "num1 = float(input(\"Enter the first number: \"))\n",
    "num2 = float(input(\"Enter the second number: \"))\n",
    "\n",
    "# Calculate the sum using the lambda function\n",
    "result = sum_function(num1, num2)\n",
    "\n",
    "# Display the result\n",
    "print(\"The sum of\", num1, \"and\", num2, \"is:\", result)\n"
   ]
  },
  {
   "cell_type": "code",
   "execution_count": 25,
   "id": "8750f5fe-fe87-40e6-8806-cc2504805634",
   "metadata": {},
   "outputs": [
    {
     "name": "stdin",
     "output_type": "stream",
     "text": [
      "Enter a number:  5\n"
     ]
    },
    {
     "name": "stdout",
     "output_type": "stream",
     "text": [
      "The square of 5.0 is: 25.0\n"
     ]
    }
   ],
   "source": [
    "# Write a code that uses a lambda function to calculate the square of a given number\n",
    "# Define the lambda function\n",
    "square_function = lambda x: x ** 2\n",
    "\n",
    "# Input a number from the user\n",
    "num = float(input(\"Enter a number: \"))\n",
    "\n",
    "# Calculate the square using the lambda function\n",
    "result = square_function(num)\n",
    "\n",
    "# Display the result\n",
    "print(\"The square of\", num, \"is:\", result)\n"
   ]
  },
  {
   "cell_type": "code",
   "execution_count": 26,
   "id": "c19da47f-cfa5-4cdb-b8e3-0c87cd11a773",
   "metadata": {},
   "outputs": [
    {
     "name": "stdin",
     "output_type": "stream",
     "text": [
      "Enter a number:  5\n"
     ]
    },
    {
     "name": "stdout",
     "output_type": "stream",
     "text": [
      "The number 5 is: Odd\n"
     ]
    }
   ],
   "source": [
    "# Write a code that uses a lambda function to check whether a given number is even or odd\n",
    "# Define the lambda function\n",
    "check_even_odd = lambda x: \"Even\" if x % 2 == 0 else \"Odd\"\n",
    "\n",
    "# Input a number from the user\n",
    "num = int(input(\"Enter a number: \"))\n",
    "\n",
    "# Check whether the number is even or odd using the lambda function\n",
    "result = check_even_odd(num)\n",
    "\n",
    "# Display the result\n",
    "print(\"The number\", num, \"is:\", result)\n"
   ]
  },
  {
   "cell_type": "code",
   "execution_count": 27,
   "id": "d1bc4f7e-21a8-4123-8c97-71c2fc8498a0",
   "metadata": {},
   "outputs": [
    {
     "name": "stdin",
     "output_type": "stream",
     "text": [
      "Enter the first string:  ajay\n",
      "Enter the second string:  jfhiuhd\n"
     ]
    },
    {
     "name": "stdout",
     "output_type": "stream",
     "text": [
      "The concatenated string is: ajayjfhiuhd\n"
     ]
    }
   ],
   "source": [
    "#Write a code that uses a lambda function to concatenate two strings\n",
    "# Define the lambda function\n",
    "concatenate_strings = lambda x, y: x + y\n",
    "\n",
    "# Input two strings from the user\n",
    "string1 = input(\"Enter the first string: \")\n",
    "string2 = input(\"Enter the second string: \")\n",
    "\n",
    "# Concatenate the strings using the lambda function\n",
    "result = concatenate_strings(string1, string2)\n",
    "\n",
    "# Display the result\n",
    "print(\"The concatenated string is:\", result)\n"
   ]
  },
  {
   "cell_type": "code",
   "execution_count": 29,
   "id": "c0ae4f39-34a4-4ab8-bb51-3135149fe898",
   "metadata": {},
   "outputs": [
    {
     "name": "stdin",
     "output_type": "stream",
     "text": [
      "Enter the first number:  3\n",
      "Enter the second number:  4\n",
      "Enter the third number:  5\n"
     ]
    },
    {
     "name": "stdout",
     "output_type": "stream",
     "text": [
      "The maximum of 3.0 , 4.0 , and 5.0 is: 5.0\n"
     ]
    }
   ],
   "source": [
    "# Write a code that uses a lambda function to find the maximum of three given numbers\n",
    "# Define the lambda function\n",
    "find_maximum = lambda x, y, z: max(x, y, z)\n",
    "\n",
    "# Input three numbers from the user\n",
    "num1 = float(input(\"Enter the first number: \"))\n",
    "num2 = float(input(\"Enter the second number: \"))\n",
    "num3 = float(input(\"Enter the third number: \"))\n",
    "\n",
    "# Find the maximum of the three numbers using the lambda function\n",
    "result = find_maximum(num1, num2, num3)\n",
    "\n",
    "# Display the result\n",
    "print(\"The maximum of\", num1, \",\", num2, \", and\", num3, \"is:\", result)\n"
   ]
  },
  {
   "cell_type": "code",
   "execution_count": 30,
   "id": "843857e5-a5bf-4e93-9885-568d3be4c01c",
   "metadata": {},
   "outputs": [],
   "source": [
    "# What is encapsulation in OOP\n",
    "\n",
    "\n",
    "#Encapsulation in OOP is the bundling of data (attributes) and methods (functions) that operate on the data into a single unit, \n",
    "#typically referred to as a class.\n",
    "#This concept restricts access to certain components of an object, preventing direct modification or access from outside the class."
   ]
  },
  {
   "cell_type": "code",
   "execution_count": 31,
   "id": "4b305da6-79c7-437e-b482-a39d06dcf577",
   "metadata": {},
   "outputs": [],
   "source": [
    "#Explain the use of access modifiers in Python classes\n",
    "\n",
    "#Public: Accessible from outside the class.\n",
    "#Protected: Indicated by a single underscore, suggests limited access.\n",
    "#Private: Indicated by double underscores, inaccessible from outside the class, though can be accessed using name mangling. \n",
    "#Python relies more on conventions than strict enforcement for access control."
   ]
  },
  {
   "cell_type": "code",
   "execution_count": 32,
   "id": "27990ef6-da38-41ea-99a9-27767ae34902",
   "metadata": {},
   "outputs": [],
   "source": [
    "#What is inheritance in OOP\n",
    "\n",
    "#In OOP, inheritance is a mechanism where a new class (subclass) is created by acquiring the properties and \n",
    "#behaviors of an existing class (superclass). \n",
    "#This promotes code reuse, modularity, and allows specialization of classes."
   ]
  },
  {
   "cell_type": "code",
   "execution_count": 34,
   "id": "221cceb4-4a46-40f8-82c8-b643e2f9e92d",
   "metadata": {},
   "outputs": [
    {
     "name": "stdout",
     "output_type": "stream",
     "text": [
      "Dog barks\n",
      "Cat meows\n"
     ]
    }
   ],
   "source": [
    "#Define polymorphism in OOP\n",
    "\n",
    "#Polymorphism in OOP refers to the ability of objects of different classes to be treated as objects of a common superclass. \n",
    "#It allows objects of different classes to be used interchangeably, providing flexibility and extensibility to the code.\n",
    "\n",
    "class Animal:\n",
    "    def speak(self):\n",
    "        return \"Animal speaks\"\n",
    "\n",
    "\n",
    "class Dog(Animal):\n",
    "    def speak(self):\n",
    "        return \"Dog barks\"\n",
    "\n",
    "\n",
    "class Cat(Animal):\n",
    "    def speak(self):\n",
    "        return \"Cat meows\"\n",
    "\n",
    "\n",
    "def make_sound(animal):\n",
    "    return animal.speak()\n",
    "\n",
    "\n",
    "# Example usage\n",
    "animals = [Dog(), Cat()]\n",
    "for animal in animals:\n",
    "    print(make_sound(animal))\n"
   ]
  },
  {
   "cell_type": "code",
   "execution_count": 36,
   "id": "32c7dbee-f03c-47e6-914f-49f7c171bded",
   "metadata": {},
   "outputs": [
    {
     "name": "stdout",
     "output_type": "stream",
     "text": [
      "Animal speaks\n",
      "Dog barks\n"
     ]
    }
   ],
   "source": [
    "# Explain method overriding in Python\n",
    "\n",
    "class Animal:\n",
    "    def speak(self):\n",
    "        return \"Animal speaks\"\n",
    "\n",
    "\n",
    "class Dog(Animal):\n",
    "    def speak(self):  # Method overriding\n",
    "        return \"Dog barks\"\n",
    "\n",
    "\n",
    "# Creating objects\n",
    "animal = Animal()\n",
    "dog = Dog()\n",
    "\n",
    "# Calling the speak method\n",
    "print(animal.speak())  # Output: \"Animal speaks\"\n",
    "print(dog.speak())     # Output: \"Dog barks\"\n"
   ]
  },
  {
   "cell_type": "code",
   "execution_count": 37,
   "id": "b4ca9da3-1574-43a4-8b46-babb85a99c7e",
   "metadata": {},
   "outputs": [
    {
     "name": "stdout",
     "output_type": "stream",
     "text": [
      "Generic animal sound\n",
      "Woof!\n"
     ]
    }
   ],
   "source": [
    "#Define a parent class Animal with a method make_sound that prints \"Generic animal sound\". Create a \n",
    "#child class Dog inheriting from Animal with a method make_sound that prints \"Woof!\"\n",
    "\n",
    "class Animal:\n",
    "    def make_sound(self):\n",
    "        print(\"Generic animal sound\")\n",
    "\n",
    "\n",
    "class Dog(Animal):\n",
    "    def make_sound(self):\n",
    "        print(\"Woof!\")\n",
    "\n",
    "\n",
    "# Creating objects\n",
    "animal = Animal()\n",
    "dog = Dog()\n",
    "\n",
    "# Calling the make_sound method\n",
    "animal.make_sound()  # Output: \"Generic animal sound\"\n",
    "dog.make_sound()     # Output: \"Woof!\"\n"
   ]
  },
  {
   "cell_type": "code",
   "execution_count": 39,
   "id": "cdfb6ecb-cf80-4ab1-93d1-0995ecf2599a",
   "metadata": {},
   "outputs": [
    {
     "name": "stdout",
     "output_type": "stream",
     "text": [
      "Animal moves\n",
      "Dog runs\n"
     ]
    }
   ],
   "source": [
    "# Define a method move in the Animal class that prints \"Animal moves\". Override the move method in the \n",
    "#Dog class to print \"Dog runs\n",
    "\n",
    "class Animal:\n",
    "    def move(self):\n",
    "        print(\"Animal moves\")\n",
    "\n",
    "\n",
    "class Dog(Animal):\n",
    "    def move(self):\n",
    "        print(\"Dog runs\")\n",
    "\n",
    "\n",
    "# Creating objects\n",
    "animal = Animal()\n",
    "dog = Dog()\n",
    "\n",
    "# Calling the move method\n",
    "animal.move()  # Output: \"Animal moves\"\n",
    "dog.move()     # Output: \"Dog runs\"\n"
   ]
  },
  {
   "cell_type": "code",
   "execution_count": 41,
   "id": "6ebca6e1-0ff6-4947-a328-fb057404b67c",
   "metadata": {},
   "outputs": [
    {
     "name": "stdout",
     "output_type": "stream",
     "text": [
      "Giving birth to live young.\n"
     ]
    }
   ],
   "source": [
    "#Create a class Mammal with a method reproduce that prints \"Giving birth to live young.\" Create a class \n",
    "#DogMammal inheriting from both Dog and Mammal\n",
    "\n",
    "class Mammal:\n",
    "    def reproduce(self):\n",
    "        print(\"Giving birth to live young.\")\n",
    "\n",
    "\n",
    "class Animal:\n",
    "    def move(self):\n",
    "        print(\"Animal moves\")\n",
    "\n",
    "\n",
    "class Dog(Animal):\n",
    "    def make_sound(self):\n",
    "        print(\"Woof!\")\n",
    "\n",
    "\n",
    "class DogMammal(Dog, Mammal):\n",
    "    pass\n",
    "\n",
    "\n",
    "# Creating object\n",
    "dog_mammal = DogMammal()\n",
    "\n",
    "# Calling the reproduce method\n",
    "dog_mammal.reproduce()  # Output: \"Giving birth to live young.\"\n"
   ]
  },
  {
   "cell_type": "code",
   "execution_count": 42,
   "id": "3ffa516c-77de-4c49-93b6-87d464cd9ff2",
   "metadata": {},
   "outputs": [
    {
     "name": "stdout",
     "output_type": "stream",
     "text": [
      "Bark!\n"
     ]
    }
   ],
   "source": [
    "# Create a class GermanShepherd inheriting from Dog and override the make_sound method to print \n",
    "#\"Bark!\n",
    "\n",
    "class Animal:\n",
    "    def move(self):\n",
    "        print(\"Animal moves\")\n",
    "\n",
    "\n",
    "class Dog(Animal):\n",
    "    def make_sound(self):\n",
    "        print(\"Woof!\")\n",
    "\n",
    "\n",
    "class GermanShepherd(Dog):\n",
    "    def make_sound(self):\n",
    "        print(\"Bark!\")\n",
    "\n",
    "\n",
    "# Creating object\n",
    "german_shepherd = GermanShepherd()\n",
    "\n",
    "# Calling the make_sound method\n",
    "german_shepherd.make_sound()  # Output: \"Bark!\"\n"
   ]
  },
  {
   "cell_type": "code",
   "execution_count": 44,
   "id": "20a90495-785d-4bdd-a8c7-54a149ce7ab3",
   "metadata": {},
   "outputs": [
    {
     "name": "stdout",
     "output_type": "stream",
     "text": [
      "Lion\n",
      "German Shepherd\n"
     ]
    }
   ],
   "source": [
    "# Define constructors in both the Animal and Dog classes with different initialization parameters\n",
    "class Animal:\n",
    "    def __init__(self, species):\n",
    "        self.species = species\n",
    "\n",
    "    def move(self):\n",
    "        print(\"Animal moves\")\n",
    "\n",
    "\n",
    "class Dog(Animal):\n",
    "    def __init__(self, breed):\n",
    "        self.breed = breed\n",
    "\n",
    "    def make_sound(self):\n",
    "        print(\"Woof!\")\n",
    "\n",
    "\n",
    "# Creating objects with different parameters\n",
    "animal = Animal(\"Lion\")\n",
    "dog = Dog(\"German Shepherd\")\n",
    "\n",
    "# Accessing attributes\n",
    "print(animal.species)  # Output: \"Lion\"\n",
    "print(dog.breed)       # Output: \"German Shepherd\"\n"
   ]
  },
  {
   "cell_type": "code",
   "execution_count": 45,
   "id": "6aadc101-7d3e-4e47-a763-d82f3a18ff4b",
   "metadata": {},
   "outputs": [],
   "source": [
    "# What is abstraction in Python? How is it implemented\n",
    "\n",
    "\n",
    "#Abstraction in Python involves hiding implementation details and showing only essential features. \n",
    "#It's implemented using classes, functions, and encapsulation to provide a high-level interface while hiding internal complexities. \n",
    "#This allows for cleaner, more maintainable code by focusing on what an object does rather than how it does it."
   ]
  },
  {
   "cell_type": "code",
   "execution_count": 46,
   "id": "3e0ccc39-8df2-4001-807d-47b2da3d7e3b",
   "metadata": {},
   "outputs": [],
   "source": [
    "# Explain the importance of abstraction in object-oriented programming\n",
    "\n",
    "\n",
    "#Abstraction in OOP simplifies complexity, promotes modularity, enhances maintainability, facilitates code reuse, \n",
    "#improves scalability, and encourages focus on higher-level design."
   ]
  },
  {
   "cell_type": "code",
   "execution_count": 47,
   "id": "f54e19dc-183d-4677-a3d9-147394bc6983",
   "metadata": {},
   "outputs": [],
   "source": [
    "# How are abstract methods different from regular methods in Python\n",
    "\n",
    "#Abstract methods in Python have no implementation and must be overridden by subclasses, \n",
    "#while regular methods have an implementation provided within the class and can be directly called on instances of the class."
   ]
  },
  {
   "cell_type": "code",
   "execution_count": 48,
   "id": "e8e4a116-1121-4747-9607-d63f11929e3c",
   "metadata": {},
   "outputs": [
    {
     "name": "stdout",
     "output_type": "stream",
     "text": [
      "Car moves on roads\n",
      "Boat moves on water\n"
     ]
    }
   ],
   "source": [
    "# How can you achieve abstraction using interfaces in Python\n",
    "\n",
    "from abc import ABC, abstractmethod\n",
    "\n",
    "class Vehicle(ABC):\n",
    "    @abstractmethod\n",
    "    def move(self):\n",
    "        pass\n",
    "\n",
    "class Car(Vehicle):\n",
    "    def move(self):\n",
    "        print(\"Car moves on roads\")\n",
    "\n",
    "class Boat(Vehicle):\n",
    "    def move(self):\n",
    "        print(\"Boat moves on water\")\n",
    "\n",
    "# Using the interface\n",
    "car = Car()\n",
    "car.move()  # Output: \"Car moves on roads\"\n",
    "\n",
    "boat = Boat()\n",
    "boat.move()  # Output: \"Boat moves on water\"\n"
   ]
  },
  {
   "cell_type": "code",
   "execution_count": 49,
   "id": "a072ec8e-51dc-4ff5-9ecc-d69096ee69a2",
   "metadata": {},
   "outputs": [
    {
     "name": "stdout",
     "output_type": "stream",
     "text": [
      "Dog says: Woof!\n",
      "Cat says: Meow!\n",
      "Cow says: Moo!\n"
     ]
    }
   ],
   "source": [
    "#Can you provide an example of how abstraction can be utilized to create a common interface for a group \n",
    "#of related classes in Python\n",
    "\n",
    "from abc import ABC, abstractmethod\n",
    "\n",
    "class Animal(ABC):\n",
    "    @abstractmethod\n",
    "    def make_sound(self):\n",
    "        pass\n",
    "\n",
    "class Dog(Animal):\n",
    "    def make_sound(self):\n",
    "        return \"Woof!\"\n",
    "\n",
    "class Cat(Animal):\n",
    "    def make_sound(self):\n",
    "        return \"Meow!\"\n",
    "\n",
    "class Cow(Animal):\n",
    "    def make_sound(self):\n",
    "        return \"Moo!\"\n",
    "\n",
    "# Using the common interface\n",
    "animals = [Dog(), Cat(), Cow()]\n",
    "\n",
    "for animal in animals:\n",
    "    print(animal.__class__.__name__ + \" says:\", animal.make_sound())\n"
   ]
  },
  {
   "cell_type": "code",
   "execution_count": 51,
   "id": "38bb6d7e-e5f0-4e28-8e6a-a6ce663c84dc",
   "metadata": {},
   "outputs": [
    {
     "name": "stdout",
     "output_type": "stream",
     "text": [
      "Animal speaks\n",
      "Dog barks\n",
      "Cat meows\n"
     ]
    }
   ],
   "source": [
    "# How does Python achieve polymorphism through method overriding\n",
    "\n",
    "class Animal:\n",
    "    def speak(self):\n",
    "        return \"Animal speaks\"\n",
    "\n",
    "\n",
    "class Dog(Animal):\n",
    "    def speak(self):  # Method overriding\n",
    "        return \"Dog barks\"\n",
    "\n",
    "\n",
    "class Cat(Animal):\n",
    "    def speak(self):  # Method overriding\n",
    "        return \"Cat meows\"\n",
    "\n",
    "\n",
    "# Creating objects\n",
    "animal = Animal()\n",
    "dog = Dog()\n",
    "cat = Cat()\n",
    "\n",
    "# Calling the speak method\n",
    "print(animal.speak())  # Output: \"Animal speaks\"\n",
    "print(dog.speak())     # Output: \"Dog barks\"\n",
    "print(cat.speak())     # Output: \"Cat meows\"\n"
   ]
  },
  {
   "cell_type": "code",
   "execution_count": 52,
   "id": "356bb7cb-a447-4de9-af7c-9034f87072a4",
   "metadata": {},
   "outputs": [
    {
     "name": "stdout",
     "output_type": "stream",
     "text": [
      "Area of the shape: 0\n",
      "Area of the square: 25\n"
     ]
    }
   ],
   "source": [
    "# Define a base class with a method and a subclass that overrides the method\n",
    "\n",
    "class Shape:\n",
    "    def area(self):\n",
    "        return 0  # Default implementation for the base class\n",
    "\n",
    "class Square(Shape):\n",
    "    def __init__(self, side):\n",
    "        self.side = side\n",
    "\n",
    "    def area(self):  # Method overriding in the subclass\n",
    "        return self.side * self.side\n",
    "\n",
    "# Creating objects\n",
    "shape = Shape()\n",
    "square = Square(5)\n",
    "\n",
    "# Calling the area method\n",
    "print(\"Area of the shape:\", shape.area())   # Output: 0 (default implementation)\n",
    "print(\"Area of the square:\", square.area()) # Output: 25 (overridden implementation)\n"
   ]
  },
  {
   "cell_type": "code",
   "execution_count": 53,
   "id": "34d35c9a-4631-4463-9a91-d143722493f7",
   "metadata": {},
   "outputs": [
    {
     "name": "stdout",
     "output_type": "stream",
     "text": [
      "Animal speaks\n",
      "Dog barks\n",
      "Cat meows\n",
      "Cow moos\n"
     ]
    }
   ],
   "source": [
    "# Define a base class and multiple subclasses with overridden methods\n",
    "class Animal:\n",
    "    def speak(self):\n",
    "        return \"Animal speaks\"\n",
    "\n",
    "class Dog(Animal):\n",
    "    def speak(self):\n",
    "        return \"Dog barks\"\n",
    "\n",
    "class Cat(Animal):\n",
    "    def speak(self):\n",
    "        return \"Cat meows\"\n",
    "\n",
    "class Cow(Animal):\n",
    "    def speak(self):\n",
    "        return \"Cow moos\"\n",
    "\n",
    "# Creating objects\n",
    "animal = Animal()\n",
    "dog = Dog()\n",
    "cat = Cat()\n",
    "cow = Cow()\n",
    "\n",
    "# Calling the speak method\n",
    "print(animal.speak())  # Output: \"Animal speaks\"\n",
    "print(dog.speak())     # Output: \"Dog barks\"\n",
    "print(cat.speak())     # Output: \"Cat meows\"\n",
    "print(cow.speak())     # Output: \"Cow moos\"\n"
   ]
  },
  {
   "cell_type": "code",
   "execution_count": 54,
   "id": "9012f780-a575-4298-8054-be04b1cf6b15",
   "metadata": {},
   "outputs": [],
   "source": [
    "# How does polymorphism improve code readability and reusability\n",
    "\n",
    "#Polymorphism in Python improves code readability and reusability by providing a clear interface, simplifying code, \n",
    "#enabling code reuse, easing maintenance, and facilitating flexible design."
   ]
  },
  {
   "cell_type": "code",
   "execution_count": 57,
   "id": "a3514c9a-f38a-479a-a7ff-25d25d7a1941",
   "metadata": {},
   "outputs": [
    {
     "name": "stdout",
     "output_type": "stream",
     "text": [
      "Quack!\n",
      "Flying high!\n",
      "Flying high!\n"
     ]
    }
   ],
   "source": [
    " #Describe how Python supports polymorphism with duck typing\n",
    "def make_sound_and_fly(thing):\n",
    "    if hasattr(thing, 'quack'):  # Check if the object has the 'quack' attribute\n",
    "        print(thing.quack())     # If it quacks like a duck\n",
    "    if hasattr(thing, 'fly'):    # Check if the object has the 'fly' attribute\n",
    "        print(thing.fly())       # If it flies like a duck\n",
    "\n",
    "# Test with Duck and Airplane objects\n",
    "duck = Duck()\n",
    "airplane = Airplane()\n",
    "\n",
    "make_sound_and_fly(duck)      # Output: Quack! Flying high!\n",
    "make_sound_and_fly(airplane)  # Output: Flying high!\n"
   ]
  },
  {
   "cell_type": "code",
   "execution_count": 58,
   "id": "c8c927fe-a878-4217-a99b-e3921d4d29fb",
   "metadata": {},
   "outputs": [
    {
     "name": "stdout",
     "output_type": "stream",
     "text": [
      "Brand (Protected): Toyota\n",
      "Model (Private): Camry\n",
      "Brand: Toyota\n",
      "Model: Camry\n"
     ]
    }
   ],
   "source": [
    "# How do you achieve encapsulation in Python\n",
    "class Car:\n",
    "    def __init__(self, brand, model):\n",
    "        self._brand = brand         # Protected attribute\n",
    "        self.__model = model        # Private attribute\n",
    "\n",
    "    def display_info(self):\n",
    "        print(\"Brand:\", self._brand)\n",
    "        print(\"Model:\", self.__model)  # Accessing private attribute within the class\n",
    "\n",
    "# Creating an object\n",
    "car = Car(\"Toyota\", \"Camry\")\n",
    "\n",
    "# Accessing attributes (should ideally be done using methods)\n",
    "print(\"Brand (Protected):\", car._brand)\n",
    "# print(\"Model (Private):\", car.__model)  # This will raise an AttributeError\n",
    "\n",
    "# Accessing private attribute using a different name (name mangling)\n",
    "print(\"Model (Private):\", car._Car__model)\n",
    "\n",
    "# Calling method to display information\n",
    "car.display_info()\n"
   ]
  },
  {
   "cell_type": "code",
   "execution_count": 59,
   "id": "126382f9-8322-48d2-b0b8-7a8fb7cf8446",
   "metadata": {},
   "outputs": [],
   "source": [
    "#Can encapsulation be bypassed in Python? If so, how\n",
    "\n",
    "\n",
    "\n",
    "\n",
    "#Yes, encapsulation can be bypassed in Python.\n",
    "#Private attributes can be accessed from outside the class using name mangling, \n",
    "#protected attributes can be accessed directly from outside the class, and immutable objects can be indirectly modified \n",
    "#if stored within mutable objects like lists or dictionaries. However, bypassing encapsulation goes against the principles of \n",
    "#encapsulation \n",
    "#and is generally considered bad practice."
   ]
  },
  {
   "cell_type": "code",
   "execution_count": 60,
   "id": "420f27d9-fd31-417f-9478-d3fe14923504",
   "metadata": {},
   "outputs": [
    {
     "name": "stdout",
     "output_type": "stream",
     "text": [
      "Deposited 50 units. Current balance: 150\n",
      "Withdrew 30 units. Current balance: 120\n",
      "Current balance: 120\n"
     ]
    }
   ],
   "source": [
    "#Implement a class BankAccount with a private balance attribute. Include methods to deposit, withdraw, \n",
    "#and check the balance\n",
    "\n",
    "class BankAccount:\n",
    "    def __init__(self, initial_balance=0):\n",
    "        self.__balance = initial_balance\n",
    "\n",
    "    def deposit(self, amount):\n",
    "        if amount > 0:\n",
    "            self.__balance += amount\n",
    "            print(f\"Deposited {amount} units. Current balance: {self.__balance}\")\n",
    "        else:\n",
    "            print(\"Invalid deposit amount.\")\n",
    "\n",
    "    def withdraw(self, amount):\n",
    "        if 0 < amount <= self.__balance:\n",
    "            self.__balance -= amount\n",
    "            print(f\"Withdrew {amount} units. Current balance: {self.__balance}\")\n",
    "        else:\n",
    "            print(\"Invalid withdrawal amount or insufficient balance.\")\n",
    "\n",
    "    def check_balance(self):\n",
    "        print(f\"Current balance: {self.__balance}\")\n",
    "\n",
    "\n",
    "# Example usage\n",
    "account = BankAccount(100)  # Starting balance: 100\n",
    "\n",
    "account.deposit(50)         # Deposited 50 units. Current balance: 150\n",
    "account.withdraw(30)        # Withdrew 30 units. Current balance: 120\n",
    "account.check_balance()     # Current balance: 120\n"
   ]
  },
  {
   "cell_type": "code",
   "execution_count": 61,
   "id": "5dfac91a-5d6c-45cc-80f1-6be13ea07946",
   "metadata": {},
   "outputs": [
    {
     "name": "stdout",
     "output_type": "stream",
     "text": [
      "Current email: john@example.com\n",
      "Updated email: new_email@example.com\n"
     ]
    }
   ],
   "source": [
    "# Develop a Person class with private attributes name and email, and methods to set and get the email\n",
    "class Person:\n",
    "    def __init__(self, name, email):\n",
    "        self.__name = name\n",
    "        self.__email = email\n",
    "\n",
    "    def set_email(self, email):\n",
    "        self.__email = email\n",
    "\n",
    "    def get_email(self):\n",
    "        return self.__email\n",
    "\n",
    "\n",
    "# Example usage\n",
    "person = Person(\"John Doe\", \"john@example.com\")\n",
    "\n",
    "# Attempting to access private attributes directly (will raise AttributeError)\n",
    "# print(person.__name)\n",
    "# print(person.__email)\n",
    "\n",
    "# Setting and getting email using methods\n",
    "print(\"Current email:\", person.get_email())  # Output: Current email: john@example.com\n",
    "person.set_email(\"new_email@example.com\")\n",
    "print(\"Updated email:\", person.get_email())  # Output: Updated email: new_email@example.com\n"
   ]
  },
  {
   "cell_type": "code",
   "execution_count": 62,
   "id": "3a960e47-09e1-434d-8582-1717381660d2",
   "metadata": {},
   "outputs": [],
   "source": [
    "# Why is encapsulation considered a pillar of object-oriented programming (OOP)?\n",
    "\n",
    "#Encapsulation is essential in OOP because it ensures data hiding, abstraction, modularity,and information hiding, making code more robust and maintainable."
   ]
  },
  {
   "cell_type": "code",
   "execution_count": 1,
   "id": "587526a1-8c29-4cf9-8af7-7eec2319a939",
   "metadata": {},
   "outputs": [
    {
     "name": "stdout",
     "output_type": "stream",
     "text": [
      "Before function execution\n",
      "Inside the simple function\n",
      "After function execution\n"
     ]
    }
   ],
   "source": [
    "#Create a decorator in Python that adds functionality to a simple function by printing a message before \n",
    "#and after the function execution\n",
    "\n",
    "def decorator(func):\n",
    "    def wrapper(*args, **kwargs):\n",
    "        print(\"Before function execution\")\n",
    "        result = func(*args, **kwargs)\n",
    "        print(\"After function execution\")\n",
    "        return result\n",
    "    return wrapper\n",
    "\n",
    "# Applying the decorator to a simple function\n",
    "@decorator\n",
    "def simple_function():\n",
    "    print(\"Inside the simple function\")\n",
    "\n",
    "# Calling the decorated function\n",
    "simple_function()\n"
   ]
  },
  {
   "cell_type": "code",
   "execution_count": 2,
   "id": "1e9710d5-57cd-48b2-809a-13b408f8368b",
   "metadata": {},
   "outputs": [
    {
     "name": "stdout",
     "output_type": "stream",
     "text": [
      "Before simple_function execution: adding functionality\n",
      "Inside the simple function\n",
      "After simple_function execution: adding functionality\n"
     ]
    }
   ],
   "source": [
    "# Modify the decorator to accept arguments and print the function name along with the message\n",
    "from functools import wraps\n",
    "\n",
    "def decorator_with_args(message):\n",
    "    def decorator(func):\n",
    "        @wraps(func)\n",
    "        def wrapper(*args, **kwargs):\n",
    "            print(f\"Before {func.__name__} execution: {message}\")\n",
    "            result = func(*args, **kwargs)\n",
    "            print(f\"After {func.__name__} execution: {message}\")\n",
    "            return result\n",
    "        return wrapper\n",
    "    return decorator\n",
    "\n",
    "# Applying the decorator with arguments to a simple function\n",
    "@decorator_with_args(\"adding functionality\")\n",
    "def simple_function():\n",
    "    print(\"Inside the simple function\")\n",
    "\n",
    "# Calling the decorated function\n",
    "simple_function()\n"
   ]
  },
  {
   "cell_type": "code",
   "execution_count": 3,
   "id": "5ecd5489-6a47-463b-86e6-44fb174c88c8",
   "metadata": {},
   "outputs": [
    {
     "name": "stdout",
     "output_type": "stream",
     "text": [
      "First decorator\n",
      "Second decorator\n",
      "Inside the function\n"
     ]
    }
   ],
   "source": [
    "#Create two decorators, and apply them to a single function. Ensure that they execute in the order they are \n",
    "#applied\n",
    "def first_decorator(func):\n",
    "    def wrapper(*args, **kwargs):\n",
    "        print(\"First decorator\")\n",
    "        result = func(*args, **kwargs)\n",
    "        return result\n",
    "    return wrapper\n",
    "\n",
    "def second_decorator(func):\n",
    "    def wrapper(*args, **kwargs):\n",
    "        print(\"Second decorator\")\n",
    "        result = func(*args, **kwargs)\n",
    "        return result\n",
    "    return wrapper\n",
    "\n",
    "@first_decorator\n",
    "@second_decorator\n",
    "def my_function():\n",
    "    print(\"Inside the function\")\n",
    "\n",
    "my_function()\n"
   ]
  },
  {
   "cell_type": "code",
   "execution_count": 8,
   "id": "726a604f-a2bb-4aba-8e4f-16aa21644074",
   "metadata": {},
   "outputs": [
    {
     "name": "stdout",
     "output_type": "stream",
     "text": [
      "Before function execution\n",
      "Inside the function\n",
      "After function execution\n",
      "Result: 8\n"
     ]
    }
   ],
   "source": [
    "#Modify the decorator to accept and pass function arguments to the wrapped function\n",
    "def my_decorator(func):\n",
    "    def wrapper(*args, **kwargs):\n",
    "        print(\"Before function execution\")\n",
    "        result = func(*args, **kwargs)\n",
    "        print(\"After function execution\")\n",
    "        return result\n",
    "    return wrapper\n",
    "\n",
    "@my_decorator\n",
    "def my_function(x, y):\n",
    "    print(\"Inside the function\")\n",
    "    return x + y\n",
    "\n",
    "# Call the decorated function\n",
    "result = my_function(3, 5)\n",
    "print(\"Result:\", result)\n"
   ]
  },
  {
   "cell_type": "code",
   "execution_count": 9,
   "id": "f26c0484-6f21-4ffc-afd4-a2b37a5a0894",
   "metadata": {},
   "outputs": [
    {
     "name": "stdout",
     "output_type": "stream",
     "text": [
      "Function name: my_function\n",
      "Function docstring: This is a sample function\n"
     ]
    }
   ],
   "source": [
    "#Create a decorator that preserves the metadata of the original function\n",
    "from functools import wraps\n",
    "\n",
    "def my_decorator(func):\n",
    "    @wraps(func)\n",
    "    def wrapper(*args, **kwargs):\n",
    "        print(\"Before function execution\")\n",
    "        result = func(*args, **kwargs)\n",
    "        print(\"After function execution\")\n",
    "        return result\n",
    "    return wrapper\n",
    "\n",
    "@my_decorator\n",
    "def my_function(x, y):\n",
    "    \"\"\"This is a sample function\"\"\"\n",
    "    print(\"Inside the function\")\n",
    "    return x + y\n",
    "\n",
    "# Accessing metadata of the decorated function\n",
    "print(\"Function name:\", my_function.__name__)\n",
    "print(\"Function docstring:\", my_function.__doc__)\n"
   ]
  },
  {
   "cell_type": "code",
   "execution_count": 10,
   "id": "e64c9287-17f7-43a2-89e1-368c49aa4ed4",
   "metadata": {},
   "outputs": [
    {
     "name": "stdout",
     "output_type": "stream",
     "text": [
      "Result: 8\n"
     ]
    }
   ],
   "source": [
    "#Create a Python class `Calculator` with a static method `add` that takes in two numbers and returns their \n",
    "#sum\n",
    "class Calculator:\n",
    "    @staticmethod\n",
    "    def add(x, y):\n",
    "        return x + y\n",
    "\n",
    "# Using the static method\n",
    "result = Calculator.add(3, 5)\n",
    "print(\"Result:\", result)\n"
   ]
  },
  {
   "cell_type": "code",
   "execution_count": 14,
   "id": "77302b54-e2b0-484e-be92-5fe007dffd57",
   "metadata": {},
   "outputs": [
    {
     "name": "stdout",
     "output_type": "stream",
     "text": [
      "Total employees: 3\n"
     ]
    }
   ],
   "source": [
    "#Create a Python class `Employee` with a class `method get_employee_count` that returns the total \n",
    "#number of employees created\n",
    "class Employee:\n",
    "    employee_count = 0\n",
    "\n",
    "    def __init__(self, name):\n",
    "        self.name = name\n",
    "        Employee.employee_count += 1\n",
    "\n",
    "    @classmethod\n",
    "    def get_employee_count(cls):\n",
    "        return cls.employee_count\n",
    "\n",
    "# Example usage\n",
    "emp1 = Employee(\"John\")\n",
    "emp2 = Employee(\"Alice\")\n",
    "emp3 = Employee(\"Bob\")\n",
    "print(\"Total employees:\", Employee.get_employee_count())  # Output: 3\n"
   ]
  },
  {
   "cell_type": "code",
   "execution_count": 15,
   "id": "d059df58-0082-4514-a8d5-794dff1e9669",
   "metadata": {},
   "outputs": [
    {
     "name": "stdout",
     "output_type": "stream",
     "text": [
      "Reversed string: olleh\n"
     ]
    }
   ],
   "source": [
    "#Create a Python class `StringFormatter` with a static method `reverse_string` that takes a string as input \n",
    "#and returns its reverse\n",
    "class StringFormatter:\n",
    "    @staticmethod\n",
    "    def reverse_string(string):\n",
    "        return string[::-1]\n",
    "\n",
    "# Example usage\n",
    "reversed_str = StringFormatter.reverse_string(\"hello\")\n",
    "print(\"Reversed string:\", reversed_str)  # Output: \"olleh\"\n"
   ]
  },
  {
   "cell_type": "code",
   "execution_count": 16,
   "id": "587b1c47-2ca5-4d4f-8163-9a4553ee2072",
   "metadata": {},
   "outputs": [
    {
     "name": "stdout",
     "output_type": "stream",
     "text": [
      "Area of the circle: 78.53981633974483\n"
     ]
    }
   ],
   "source": [
    "#Create a Python class `Circle` with a class method `calculate_area` that calculates the area of a circle \n",
    "#given its radius\n",
    "import math\n",
    "\n",
    "class Circle:\n",
    "    @classmethod\n",
    "    def calculate_area(cls, radius):\n",
    "        return math.pi * radius**2\n",
    "\n",
    "# Example usage\n",
    "area = Circle.calculate_area(5)\n",
    "print(\"Area of the circle:\", area)  # Output: 78.53981633974483\n"
   ]
  },
  {
   "cell_type": "code",
   "execution_count": 18,
   "id": "f402023c-fb51-4fcc-95d0-c2f9fd96fec7",
   "metadata": {},
   "outputs": [
    {
     "name": "stdout",
     "output_type": "stream",
     "text": [
      "Temperature in Fahrenheit: 86.0\n"
     ]
    }
   ],
   "source": [
    "#Create a Python class `TemperatureConverter` with a static method `celsius_to_fahrenheit` that converts \n",
    "#Celsius to Fahrenheit\n",
    "class TemperatureConverter:\n",
    "    @staticmethod\n",
    "    def celsius_to_fahrenheit(celsius):\n",
    "        return (celsius * 9/5) + 32\n",
    "\n",
    "# Example usage\n",
    "fahrenheit = TemperatureConverter.celsius_to_fahrenheit(30)\n",
    "print(\"Temperature in Fahrenheit:\", fahrenheit)  # Output: 86.0\n"
   ]
  },
  {
   "cell_type": "code",
   "execution_count": 23,
   "id": "1255bfd3-82c6-4261-8681-4f5cc70b1d59",
   "metadata": {},
   "outputs": [
    {
     "name": "stdout",
     "output_type": "stream",
     "text": [
      "MyClass(x=3, y=5)\n"
     ]
    }
   ],
   "source": [
    "#What is the purpose of the __str__() method in Python classes? Provide an example\n",
    "class MyClass:\n",
    "    def __init__(self, x, y):\n",
    "        self.x = x\n",
    "        self.y = y\n",
    "\n",
    "    def __str__(self):\n",
    "        return f\"MyClass(x={self.x}, y={self.y})\"\n",
    "\n",
    "obj = MyClass(3, 5)\n",
    "print(obj)  # Output: MyClass(x=3, y=5)\n"
   ]
  },
  {
   "cell_type": "code",
   "execution_count": 24,
   "id": "831384d0-beea-4718-91c0-890bbc0df563",
   "metadata": {},
   "outputs": [
    {
     "name": "stdout",
     "output_type": "stream",
     "text": [
      "5\n"
     ]
    }
   ],
   "source": [
    "#How does the __len__() method work in Python? Provide an example\n",
    "class MyList:\n",
    "    def __init__(self, data):\n",
    "        self.data = data\n",
    "\n",
    "    def __len__(self):\n",
    "        return len(self.data)\n",
    "\n",
    "lst = MyList([1, 2, 3, 4, 5])\n",
    "print(len(lst))  # Output: 5\n"
   ]
  },
  {
   "cell_type": "code",
   "execution_count": 25,
   "id": "4b4d92c0-c3b6-4ff0-b2b4-b8049975437b",
   "metadata": {},
   "outputs": [
    {
     "name": "stdout",
     "output_type": "stream",
     "text": [
      "4 6\n"
     ]
    }
   ],
   "source": [
    "#Explain the usage of the __add__() method in Python classes. Provide an example\n",
    "class Point:\n",
    "    def __init__(self, x, y):\n",
    "        self.x = x\n",
    "        self.y = y\n",
    "\n",
    "    def __add__(self, other):\n",
    "        return Point(self.x + other.x, self.y + other.y)\n",
    "\n",
    "p1 = Point(1, 2)\n",
    "p2 = Point(3, 4)\n",
    "result = p1 + p2\n",
    "print(result.x, result.y)  # Output: 4 6\n"
   ]
  },
  {
   "cell_type": "code",
   "execution_count": 26,
   "id": "781a670f-8549-4d99-8217-79de7c8f7735",
   "metadata": {},
   "outputs": [
    {
     "name": "stdout",
     "output_type": "stream",
     "text": [
      "3\n"
     ]
    }
   ],
   "source": [
    "#What is the purpose of the __getitem__() method in Python? Provide an example\n",
    "class MyList:\n",
    "    def __init__(self, data):\n",
    "        self.data = data\n",
    "\n",
    "    def __getitem__(self, index):\n",
    "        return self.data[index]\n",
    "\n",
    "lst = MyList([1, 2, 3, 4, 5])\n",
    "print(lst[2])  # Output: 3\n"
   ]
  },
  {
   "cell_type": "code",
   "execution_count": 28,
   "id": "1facbf62-8607-404f-bd68-ac7668b0285c",
   "metadata": {},
   "outputs": [
    {
     "name": "stdout",
     "output_type": "stream",
     "text": [
      "1\n",
      "2\n",
      "3\n",
      "4\n",
      "5\n"
     ]
    }
   ],
   "source": [
    "#Explain the usage of the __iter__() and __next__() methods in Python. Provide an example using \n",
    "#iterators\n",
    "\n",
    "class MyIterator:\n",
    "    def __init__(self, data):\n",
    "        self.data = data\n",
    "        self.index = 0\n",
    "\n",
    "    def __iter__(self):\n",
    "        return self\n",
    "\n",
    "    def __next__(self):\n",
    "        if self.index < len(self.data):\n",
    "            result = self.data[self.index]\n",
    "            self.index += 1\n",
    "            return result\n",
    "        else:\n",
    "            raise StopIteration\n",
    "\n",
    "my_iter = MyIterator([1, 2, 3, 4, 5])\n",
    "for item in my_iter:\n",
    "    print(item)\n"
   ]
  },
  {
   "cell_type": "code",
   "execution_count": 33,
   "id": "657bd970-2b1f-4826-9135-b3a738193b43",
   "metadata": {},
   "outputs": [
    {
     "name": "stdout",
     "output_type": "stream",
     "text": [
      "0\n"
     ]
    }
   ],
   "source": [
    "#What is the purpose of a getter method in Python? Provide an example demonstrating the use of a getter \n",
    "#method using property decorators\n",
    "class MyClass:\n",
    "    def __init__(self):\n",
    "        self.__value = 0\n",
    "\n",
    "    @property\n",
    "    def value(self):\n",
    "        return self.__value\n",
    "\n",
    "obj = MyClass()\n",
    "print(obj.value)  # Output: 0\n"
   ]
  },
  {
   "cell_type": "code",
   "execution_count": 34,
   "id": "ba277157-1ff8-464d-bb96-4b342c9f2d94",
   "metadata": {},
   "outputs": [
    {
     "name": "stdout",
     "output_type": "stream",
     "text": [
      "10\n",
      "10\n"
     ]
    }
   ],
   "source": [
    "#Explain the role of setter methods in Python. Demonstrate how to use a setter method to modify a class \n",
    "#attribute using property decorators\n",
    "class MyClass:\n",
    "    def __init__(self):\n",
    "        self.__value = 0\n",
    "\n",
    "    @property\n",
    "    def value(self):\n",
    "        return self.__value\n",
    "\n",
    "    @value.setter\n",
    "    def value(self, new_value):\n",
    "        if new_value >= 0:\n",
    "            self.__value = new_value\n",
    "\n",
    "obj = MyClass()\n",
    "obj.value = 10\n",
    "print(obj.value)  # Output: 10\n",
    "\n",
    "obj.value = -5\n",
    "print(obj.value)  # Output: 10 (unchanged due to validation)\n"
   ]
  },
  {
   "cell_type": "code",
   "execution_count": 35,
   "id": "dac6058d-8f06-41b5-bbd4-852728137f41",
   "metadata": {},
   "outputs": [
    {
     "name": "stdout",
     "output_type": "stream",
     "text": [
      "0\n"
     ]
    }
   ],
   "source": [
    "#What is the purpose of the @property decorator in Python? Provide an example illustrating its usage\n",
    "class MyClass:\n",
    "    def __init__(self):\n",
    "        self.__value = 0\n",
    "\n",
    "    @property\n",
    "    def value(self):\n",
    "        return self.__value\n",
    "\n",
    "obj = MyClass()\n",
    "print(obj.value)  # Output: 0\n"
   ]
  },
  {
   "cell_type": "code",
   "execution_count": 36,
   "id": "22d93039-90bd-4c84-a046-ce34474b1858",
   "metadata": {},
   "outputs": [
    {
     "name": "stdout",
     "output_type": "stream",
     "text": [
      "0\n"
     ]
    }
   ],
   "source": [
    "#Explain the use of the @deleter decorator in Python property decorators. Provide a code example \n",
    "#demonstrating its application\n",
    "class MyClass:\n",
    "    def __init__(self):\n",
    "        self.__value = 0\n",
    "\n",
    "    @property\n",
    "    def value(self):\n",
    "        return self.__value\n",
    "\n",
    "    @value.deleter\n",
    "    def value(self):\n",
    "        del self.__value\n",
    "\n",
    "obj = MyClass()\n",
    "print(obj.value)  # Output: 0\n",
    "del obj.value\n",
    "# print(obj.value)  # Raises AttributeError: 'MyClass' object has no attribute '_MyClass__value'\n"
   ]
  },
  {
   "cell_type": "code",
   "execution_count": 37,
   "id": "cf3d70b6-4bf4-4fee-8e5a-11a809b84a23",
   "metadata": {},
   "outputs": [
    {
     "name": "stdout",
     "output_type": "stream",
     "text": [
      "10\n",
      "10\n"
     ]
    }
   ],
   "source": [
    "#How does encapsulation relate to property decorators in Python? Provide an example showcasing \n",
    "#encapsulation using property decorators\n",
    "class MyClass:\n",
    "    def __init__(self):\n",
    "        self.__value = 0\n",
    "\n",
    "    @property\n",
    "    def value(self):\n",
    "        return self.__value\n",
    "\n",
    "    @value.setter\n",
    "    def value(self, new_value):\n",
    "        if new_value >= 0:\n",
    "            self.__value = new_value\n",
    "\n",
    "obj = MyClass()\n",
    "obj.value = 10\n",
    "print(obj.value)  # Output: 10\n",
    "\n",
    "obj.value = -5\n",
    "print(obj.value)  # Output: 10 (unchanged due to validation)\n"
   ]
  },
  {
   "cell_type": "code",
   "execution_count": null,
   "id": "04b14884-0572-4530-9a1e-1d7d4465208f",
   "metadata": {},
   "outputs": [],
   "source": []
  }
 ],
 "metadata": {
  "kernelspec": {
   "display_name": "Python 3 (ipykernel)",
   "language": "python",
   "name": "python3"
  },
  "language_info": {
   "codemirror_mode": {
    "name": "ipython",
    "version": 3
   },
   "file_extension": ".py",
   "mimetype": "text/x-python",
   "name": "python",
   "nbconvert_exporter": "python",
   "pygments_lexer": "ipython3",
   "version": "3.10.8"
  }
 },
 "nbformat": 4,
 "nbformat_minor": 5
}
